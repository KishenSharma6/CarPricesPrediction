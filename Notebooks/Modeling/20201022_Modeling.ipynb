{
 "cells": [
  {
   "cell_type": "markdown",
   "metadata": {},
   "source": [
    "In the following notebook, I will be building a car price predictor using multiple linear regression."
   ]
  },
  {
   "cell_type": "markdown",
   "metadata": {},
   "source": [
    "**Import Libraries**"
   ]
  },
  {
   "cell_type": "code",
   "execution_count": 1,
   "metadata": {},
   "outputs": [],
   "source": [
    "import pandas as pd\n",
    "import numpy as np\n",
    "%matplotlib inline\n",
    "import matplotlib.pyplot as plt\n",
    "import plotly.express as px\n",
    "import yaml\n",
    "import os"
   ]
  },
  {
   "cell_type": "markdown",
   "metadata": {},
   "source": [
    "**Set Notebook Preferences**"
   ]
  },
  {
   "cell_type": "code",
   "execution_count": 2,
   "metadata": {},
   "outputs": [],
   "source": [
    "#Set pandas preferences\n",
    "pd.set_option('display.max_columns', 100)\n",
    "\n",
    "#Set visualization preferences\n",
    "plt.style.use('ggplot')\n",
    "\n",
    "fontdict= {'title_fontsize':16,\n",
    "           'label_fontsize':12}"
   ]
  },
  {
   "cell_type": "markdown",
   "metadata": {},
   "source": [
    "**Read-in Data**"
   ]
  },
  {
   "cell_type": "code",
   "execution_count": 3,
   "metadata": {},
   "outputs": [],
   "source": [
    "#Change directory to my_config.yaml\n",
    "os.chdir('C:/Users/kishe/Documents/Data Science/Projects/Python/In Progress/Car_Price_Prediction')\n",
    "\n",
    "#Read yaml file\n",
    "from box import Box\n",
    "\n",
    "with open('my_config.yaml') as file:\n",
    "    yaml_data= Box(yaml.safe_load(file))\n",
    "\n",
    "#Read in processed data\n",
    "processed_data= pd.read_csv(yaml_data.base.path.processed_data, index_col=0,\n",
    "                           dtype= {'symboling':'category'})"
   ]
  },
  {
   "cell_type": "markdown",
   "metadata": {},
   "source": [
    "**Preview Data**"
   ]
  },
  {
   "cell_type": "code",
   "execution_count": 4,
   "metadata": {},
   "outputs": [
    {
     "name": "stdout",
     "output_type": "stream",
     "text": [
      "Data shape: (205, 20)\n"
     ]
    },
    {
     "data": {
      "text/html": [
       "<div>\n",
       "<style scoped>\n",
       "    .dataframe tbody tr th:only-of-type {\n",
       "        vertical-align: middle;\n",
       "    }\n",
       "\n",
       "    .dataframe tbody tr th {\n",
       "        vertical-align: top;\n",
       "    }\n",
       "\n",
       "    .dataframe thead th {\n",
       "        text-align: right;\n",
       "    }\n",
       "</style>\n",
       "<table border=\"1\" class=\"dataframe\">\n",
       "  <thead>\n",
       "    <tr style=\"text-align: right;\">\n",
       "      <th></th>\n",
       "      <th>symboling</th>\n",
       "      <th>fueltype</th>\n",
       "      <th>aspiration</th>\n",
       "      <th>doornumber</th>\n",
       "      <th>carbody</th>\n",
       "      <th>drivewheel</th>\n",
       "      <th>enginelocation</th>\n",
       "      <th>wheelbase</th>\n",
       "      <th>carwidth</th>\n",
       "      <th>carheight</th>\n",
       "      <th>enginetype</th>\n",
       "      <th>cylindernumber</th>\n",
       "      <th>fuelsystem</th>\n",
       "      <th>boreratio</th>\n",
       "      <th>stroke</th>\n",
       "      <th>compressionratio</th>\n",
       "      <th>horsepower</th>\n",
       "      <th>peakrpm</th>\n",
       "      <th>highwaympg</th>\n",
       "      <th>price</th>\n",
       "    </tr>\n",
       "  </thead>\n",
       "  <tbody>\n",
       "    <tr>\n",
       "      <th>0</th>\n",
       "      <td>0</td>\n",
       "      <td>gas</td>\n",
       "      <td>std</td>\n",
       "      <td>two</td>\n",
       "      <td>sedan</td>\n",
       "      <td>rwd</td>\n",
       "      <td>front</td>\n",
       "      <td>102.0</td>\n",
       "      <td>70.6</td>\n",
       "      <td>47.8</td>\n",
       "      <td>ohcv</td>\n",
       "      <td>twelve</td>\n",
       "      <td>mpfi</td>\n",
       "      <td>3.54</td>\n",
       "      <td>2.76</td>\n",
       "      <td>11.5</td>\n",
       "      <td>262</td>\n",
       "      <td>5000</td>\n",
       "      <td>17</td>\n",
       "      <td>1.589962</td>\n",
       "    </tr>\n",
       "    <tr>\n",
       "      <th>1</th>\n",
       "      <td>0</td>\n",
       "      <td>gas</td>\n",
       "      <td>std</td>\n",
       "      <td>four</td>\n",
       "      <td>sedan</td>\n",
       "      <td>rwd</td>\n",
       "      <td>front</td>\n",
       "      <td>120.9</td>\n",
       "      <td>71.7</td>\n",
       "      <td>56.7</td>\n",
       "      <td>ohcv</td>\n",
       "      <td>eight</td>\n",
       "      <td>mpfi</td>\n",
       "      <td>3.80</td>\n",
       "      <td>3.35</td>\n",
       "      <td>8.0</td>\n",
       "      <td>184</td>\n",
       "      <td>4500</td>\n",
       "      <td>16</td>\n",
       "      <td>1.590133</td>\n",
       "    </tr>\n",
       "    <tr>\n",
       "      <th>2</th>\n",
       "      <td>1</td>\n",
       "      <td>gas</td>\n",
       "      <td>std</td>\n",
       "      <td>two</td>\n",
       "      <td>hardtop</td>\n",
       "      <td>rwd</td>\n",
       "      <td>front</td>\n",
       "      <td>112.0</td>\n",
       "      <td>72.0</td>\n",
       "      <td>55.4</td>\n",
       "      <td>ohcv</td>\n",
       "      <td>eight</td>\n",
       "      <td>mpfi</td>\n",
       "      <td>3.80</td>\n",
       "      <td>3.35</td>\n",
       "      <td>8.0</td>\n",
       "      <td>184</td>\n",
       "      <td>4500</td>\n",
       "      <td>16</td>\n",
       "      <td>1.590259</td>\n",
       "    </tr>\n",
       "    <tr>\n",
       "      <th>3</th>\n",
       "      <td>0</td>\n",
       "      <td>gas</td>\n",
       "      <td>std</td>\n",
       "      <td>four</td>\n",
       "      <td>sedan</td>\n",
       "      <td>rwd</td>\n",
       "      <td>front</td>\n",
       "      <td>113.0</td>\n",
       "      <td>69.6</td>\n",
       "      <td>52.8</td>\n",
       "      <td>dohc</td>\n",
       "      <td>six</td>\n",
       "      <td>mpfi</td>\n",
       "      <td>3.63</td>\n",
       "      <td>4.17</td>\n",
       "      <td>8.1</td>\n",
       "      <td>176</td>\n",
       "      <td>4750</td>\n",
       "      <td>19</td>\n",
       "      <td>1.589806</td>\n",
       "    </tr>\n",
       "    <tr>\n",
       "      <th>4</th>\n",
       "      <td>0</td>\n",
       "      <td>gas</td>\n",
       "      <td>std</td>\n",
       "      <td>four</td>\n",
       "      <td>sedan</td>\n",
       "      <td>rwd</td>\n",
       "      <td>front</td>\n",
       "      <td>113.0</td>\n",
       "      <td>69.6</td>\n",
       "      <td>52.8</td>\n",
       "      <td>dohc</td>\n",
       "      <td>six</td>\n",
       "      <td>mpfi</td>\n",
       "      <td>3.63</td>\n",
       "      <td>4.17</td>\n",
       "      <td>8.1</td>\n",
       "      <td>176</td>\n",
       "      <td>4750</td>\n",
       "      <td>19</td>\n",
       "      <td>1.589945</td>\n",
       "    </tr>\n",
       "  </tbody>\n",
       "</table>\n",
       "</div>"
      ],
      "text/plain": [
       "  symboling fueltype aspiration doornumber  carbody drivewheel enginelocation  \\\n",
       "0         0      gas        std        two    sedan        rwd          front   \n",
       "1         0      gas        std       four    sedan        rwd          front   \n",
       "2         1      gas        std        two  hardtop        rwd          front   \n",
       "3         0      gas        std       four    sedan        rwd          front   \n",
       "4         0      gas        std       four    sedan        rwd          front   \n",
       "\n",
       "   wheelbase  carwidth  carheight enginetype cylindernumber fuelsystem  \\\n",
       "0      102.0      70.6       47.8       ohcv         twelve       mpfi   \n",
       "1      120.9      71.7       56.7       ohcv          eight       mpfi   \n",
       "2      112.0      72.0       55.4       ohcv          eight       mpfi   \n",
       "3      113.0      69.6       52.8       dohc            six       mpfi   \n",
       "4      113.0      69.6       52.8       dohc            six       mpfi   \n",
       "\n",
       "   boreratio  stroke  compressionratio  horsepower  peakrpm  highwaympg  \\\n",
       "0       3.54    2.76              11.5         262     5000          17   \n",
       "1       3.80    3.35               8.0         184     4500          16   \n",
       "2       3.80    3.35               8.0         184     4500          16   \n",
       "3       3.63    4.17               8.1         176     4750          19   \n",
       "4       3.63    4.17               8.1         176     4750          19   \n",
       "\n",
       "      price  \n",
       "0  1.589962  \n",
       "1  1.590133  \n",
       "2  1.590259  \n",
       "3  1.589806  \n",
       "4  1.589945  "
      ]
     },
     "metadata": {},
     "output_type": "display_data"
    }
   ],
   "source": [
    "#Display head and data shape\n",
    "print('Data shape:', processed_data.shape)\n",
    "display(processed_data.head())"
   ]
  },
  {
   "cell_type": "markdown",
   "metadata": {},
   "source": [
    "**Check Info**"
   ]
  },
  {
   "cell_type": "code",
   "execution_count": 5,
   "metadata": {},
   "outputs": [
    {
     "name": "stdout",
     "output_type": "stream",
     "text": [
      "<class 'pandas.core.frame.DataFrame'>\n",
      "Int64Index: 205 entries, 0 to 204\n",
      "Data columns (total 20 columns):\n",
      " #   Column            Non-Null Count  Dtype   \n",
      "---  ------            --------------  -----   \n",
      " 0   symboling         205 non-null    category\n",
      " 1   fueltype          205 non-null    object  \n",
      " 2   aspiration        205 non-null    object  \n",
      " 3   doornumber        205 non-null    object  \n",
      " 4   carbody           205 non-null    object  \n",
      " 5   drivewheel        205 non-null    object  \n",
      " 6   enginelocation    205 non-null    object  \n",
      " 7   wheelbase         205 non-null    float64 \n",
      " 8   carwidth          205 non-null    float64 \n",
      " 9   carheight         205 non-null    float64 \n",
      " 10  enginetype        205 non-null    object  \n",
      " 11  cylindernumber    205 non-null    object  \n",
      " 12  fuelsystem        205 non-null    object  \n",
      " 13  boreratio         205 non-null    float64 \n",
      " 14  stroke            205 non-null    float64 \n",
      " 15  compressionratio  205 non-null    float64 \n",
      " 16  horsepower        205 non-null    int64   \n",
      " 17  peakrpm           205 non-null    int64   \n",
      " 18  highwaympg        205 non-null    int64   \n",
      " 19  price             205 non-null    float64 \n",
      "dtypes: category(1), float64(7), int64(3), object(9)\n",
      "memory usage: 32.4+ KB\n"
     ]
    }
   ],
   "source": [
    "processed_data.info()"
   ]
  },
  {
   "cell_type": "markdown",
   "metadata": {},
   "source": [
    "# Supervised Learning"
   ]
  },
  {
   "cell_type": "markdown",
   "metadata": {},
   "source": [
    "**Import libraries**"
   ]
  },
  {
   "cell_type": "code",
   "execution_count": 6,
   "metadata": {},
   "outputs": [],
   "source": [
    "#Import sklearn libaries\n",
    "from sklearn.linear_model import LinearRegression\n",
    "from sklearn.pipeline import Pipeline\n",
    "from sklearn.compose import ColumnTransformer\n",
    "from sklearn.preprocessing import StandardScaler, OneHotEncoder\n",
    "from sklearn.model_selection import cross_val_predict\n",
    "\n",
    "#Import py files\n",
    "from src.Models.machine_learning import regression_metrics"
   ]
  },
  {
   "cell_type": "markdown",
   "metadata": {},
   "source": [
    "**Prepare data**"
   ]
  },
  {
   "cell_type": "code",
   "execution_count": 7,
   "metadata": {},
   "outputs": [
    {
     "name": "stdout",
     "output_type": "stream",
     "text": [
      "Training data shape:(205, 19)\n",
      "Test data shape:(205,)\n"
     ]
    }
   ],
   "source": [
    "#Split data into X, y\n",
    "X= processed_data.drop('price', axis = 1)\n",
    "y= processed_data['price']\n",
    "\n",
    "#Check shapes\n",
    "print(\"Training data shape:%s\\nTest data shape:%s\" %(X.shape,y.shape))"
   ]
  },
  {
   "cell_type": "code",
   "execution_count": 8,
   "metadata": {},
   "outputs": [],
   "source": [
    "#Subset numeric and categorical features\n",
    "num_features= list(X.select_dtypes(include= ['float64', 'int64']).columns)\n",
    "cat_features= list(X.select_dtypes(exclude= ['float64', 'int64']).columns)"
   ]
  },
  {
   "cell_type": "markdown",
   "metadata": {},
   "source": [
    "**Build Pipeline**"
   ]
  },
  {
   "cell_type": "code",
   "execution_count": 9,
   "metadata": {},
   "outputs": [],
   "source": [
    "#Create transformers\n",
    "num_transformer= Pipeline(steps= [('scaler', StandardScaler())])\n",
    "cat_transformer= Pipeline(steps= [('encoder', OneHotEncoder(handle_unknown='ignore'))])\n",
    "\n",
    "#Init preprocessor with transformers\n",
    "preprocessor= ColumnTransformer(transformers=[('numerics', num_transformer, num_features),\n",
    "                                              ('categoricals', cat_transformer, cat_features)])\n",
    "\n",
    "#Append preprocessor to pipeline\n",
    "base_regressor= Pipeline(steps= [('preprocessor', preprocessor),\n",
    "                                 ('regressor', LinearRegression(n_jobs=-1))\n",
    "                                ])"
   ]
  },
  {
   "cell_type": "markdown",
   "metadata": {},
   "source": [
    "**Test Base Model**"
   ]
  },
  {
   "cell_type": "code",
   "execution_count": 10,
   "metadata": {},
   "outputs": [],
   "source": [
    "#Import scoring module\n",
    "from src.Models.machine_learning import regression_metrics\n",
    "\n",
    "#Run base_regressor and get predictions\n",
    "BaseRegressorPredictions= cross_val_predict(estimator= base_regressor, X= X, y= y, \n",
    "                                            cv=5, n_jobs= -1)"
   ]
  },
  {
   "cell_type": "code",
   "execution_count": 11,
   "metadata": {},
   "outputs": [
    {
     "data": {
      "text/html": [
       "<div>\n",
       "<style scoped>\n",
       "    .dataframe tbody tr th:only-of-type {\n",
       "        vertical-align: middle;\n",
       "    }\n",
       "\n",
       "    .dataframe tbody tr th {\n",
       "        vertical-align: top;\n",
       "    }\n",
       "\n",
       "    .dataframe thead th {\n",
       "        text-align: right;\n",
       "    }\n",
       "</style>\n",
       "<table border=\"1\" class=\"dataframe\">\n",
       "  <thead>\n",
       "    <tr style=\"text-align: right;\">\n",
       "      <th></th>\n",
       "      <th>Predictions</th>\n",
       "      <th>Actual</th>\n",
       "      <th>Residuals</th>\n",
       "    </tr>\n",
       "  </thead>\n",
       "  <tbody>\n",
       "    <tr>\n",
       "      <th>0</th>\n",
       "      <td>153873.718244</td>\n",
       "      <td>36000.0</td>\n",
       "      <td>-117873.718244</td>\n",
       "    </tr>\n",
       "    <tr>\n",
       "      <th>1</th>\n",
       "      <td>188197.723279</td>\n",
       "      <td>40960.0</td>\n",
       "      <td>-147237.723279</td>\n",
       "    </tr>\n",
       "    <tr>\n",
       "      <th>2</th>\n",
       "      <td>38985.352549</td>\n",
       "      <td>45400.0</td>\n",
       "      <td>6414.647451</td>\n",
       "    </tr>\n",
       "    <tr>\n",
       "      <th>3</th>\n",
       "      <td>62898.427579</td>\n",
       "      <td>32250.0</td>\n",
       "      <td>-30648.427579</td>\n",
       "    </tr>\n",
       "    <tr>\n",
       "      <th>4</th>\n",
       "      <td>62898.427579</td>\n",
       "      <td>35550.0</td>\n",
       "      <td>-27348.427579</td>\n",
       "    </tr>\n",
       "  </tbody>\n",
       "</table>\n",
       "</div>"
      ],
      "text/plain": [
       "     Predictions   Actual      Residuals\n",
       "0  153873.718244  36000.0 -117873.718244\n",
       "1  188197.723279  40960.0 -147237.723279\n",
       "2   38985.352549  45400.0    6414.647451\n",
       "3   62898.427579  32250.0  -30648.427579\n",
       "4   62898.427579  35550.0  -27348.427579"
      ]
     },
     "metadata": {},
     "output_type": "display_data"
    }
   ],
   "source": [
    "#Create dictionary containing BaseRegressorPredictions and y\n",
    "BaseRegressorDict= {'Predictions': BaseRegressorPredictions,\n",
    "                   'Actual': list(y)}\n",
    "\n",
    "#Convert dictionary into dataframe \n",
    "BaseRegressorResids= pd.DataFrame(data=BaseRegressorDict, columns= ['Predictions', 'Actual'])\n",
    "\n",
    "#Read in lambda variable from boxcox transformation done in preprocessing file\n",
    "lmbda= yaml_data.base.xglobal.lmbda\n",
    "\n",
    "#Create dataframe BaseRegressorResids to store actual and predictions. Inverse boxcox. Calculate residuals\n",
    "BaseRegressorResids= pd.DataFrame(data=BaseRegressorDict, columns= ['Predictions', 'Actual'])\n",
    "\n",
    "from scipy.special import inv_boxcox\n",
    "BaseRegressorResids = BaseRegressorResids.apply(lambda x: inv_boxcox(x, lmbda))\n",
    "BaseRegressorResids['Residuals']= BaseRegressorResids['Actual']- BaseRegressorResids['Predictions']\n",
    "\n",
    "#Check\n",
    "display(BaseRegressorResids.head())"
   ]
  },
  {
   "cell_type": "markdown",
   "metadata": {},
   "source": [
    "**Evaluate Base Model Performance and Errors**"
   ]
  },
  {
   "cell_type": "code",
   "execution_count": 16,
   "metadata": {},
   "outputs": [
    {
     "data": {
      "image/png": "[encoded data removed]",
      "text/plain": [
       "<Figure size 1080x576 with 2 Axes>"
      ]
     },
     "metadata": {},
     "output_type": "display_data"
    }
   ],
   "source": [
    "#Import visualization module\n",
    "from src.Visualization.visualize import EDA_Viz, set_aesthetics\n",
    "\n",
    "#Init EDA_Viz object\n",
    "BRResidsViz= EDA_Viz(BaseRegressorResids)\n",
    "\n",
    "#Create figure\n",
    "f, ax= plt.subplots(1,2, figsize= (15,8))\n",
    "\n",
    "#Add residual plots to fig\n",
    "BRResidsViz.histogram(feature= 'Residuals', ax= ax[0])\n",
    "BRResidsViz.qqplot('Residuals', ax= ax[1]);\n",
    "\n",
    "#Set plot aesthetics\n"
   ]
  },
  {
   "cell_type": "markdown",
   "metadata": {},
   "source": [
    "**ANOVA Test on the Categorical Variables**"
   ]
  },
  {
   "cell_type": "markdown",
   "metadata": {},
   "source": [
    "**Apply regularization to the Model"
   ]
  }
 ],
 "metadata": {
  "kernelspec": {
   "display_name": "data_overview",
   "language": "python",
   "name": "data_overview"
  },
  "language_info": {
   "codemirror_mode": {
    "name": "ipython",
    "version": 3
   },
   "file_extension": ".py",
   "mimetype": "text/x-python",
   "name": "python",
   "nbconvert_exporter": "python",
   "pygments_lexer": "ipython3",
   "version": "3.7.4"
  }
 },
 "nbformat": 4,
 "nbformat_minor": 4
}
