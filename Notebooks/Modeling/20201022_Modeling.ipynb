{
 "cells": [
  {
   "cell_type": "markdown",
   "metadata": {},
   "source": [
    "In the following notebook, I will be building a car price predictor using multiple linear regression."
   ]
  },
  {
   "cell_type": "markdown",
   "metadata": {},
   "source": [
    "**Import Libraries**"
   ]
  },
  {
   "cell_type": "code",
   "execution_count": 1,
   "metadata": {},
   "outputs": [],
   "source": [
    "import pandas as pd\n",
    "import numpy as np\n",
    "%matplotlib inline\n",
    "import matplotlib.pyplot as plt\n",
    "import plotly.express as px\n",
    "import yaml\n",
    "import os"
   ]
  },
  {
   "cell_type": "markdown",
   "metadata": {},
   "source": [
    "**Set Notebook Preferences**"
   ]
  },
  {
   "cell_type": "code",
   "execution_count": 2,
   "metadata": {},
   "outputs": [],
   "source": [
    "#Set pandas preferences\n",
    "pd.set_option('display.max_columns', 100)\n",
    "\n",
    "#Set visualization preferences\n",
    "plt.style.use('ggplot')\n",
    "\n",
    "fontdict= {'title_fontsize':16,\n",
    "           'label_fontsize':12}"
   ]
  },
  {
   "cell_type": "markdown",
   "metadata": {},
   "source": [
    "**Read-in Data**"
   ]
  },
  {
   "cell_type": "code",
   "execution_count": 3,
   "metadata": {},
   "outputs": [],
   "source": [
    "#Change directory to my_config.yaml\n",
    "os.chdir('C:/Users/kishe/Documents/Data Science/Projects/Python/In Progress/Car_Price_Prediction')\n",
    "\n",
    "#Read yaml file\n",
    "from box import Box\n",
    "\n",
    "with open('my_config.yaml') as file:\n",
    "    yaml_data= Box(yaml.safe_load(file))\n",
    "\n",
    "#Read in processed data\n",
    "processed_data= pd.read_csv(yaml_data.base.path.processed_data, index_col=0,\n",
    "                           dtype= {'symboling':'category'})"
   ]
  },
  {
   "cell_type": "markdown",
   "metadata": {},
   "source": [
    "**Preview Data**"
   ]
  },
  {
   "cell_type": "code",
   "execution_count": 4,
   "metadata": {},
   "outputs": [
    {
     "name": "stdout",
     "output_type": "stream",
     "text": [
      "Data shape: (205, 24)\n"
     ]
    },
    {
     "data": {
      "text/html": [
       "<div>\n",
       "<style scoped>\n",
       "    .dataframe tbody tr th:only-of-type {\n",
       "        vertical-align: middle;\n",
       "    }\n",
       "\n",
       "    .dataframe tbody tr th {\n",
       "        vertical-align: top;\n",
       "    }\n",
       "\n",
       "    .dataframe thead th {\n",
       "        text-align: right;\n",
       "    }\n",
       "</style>\n",
       "<table border=\"1\" class=\"dataframe\">\n",
       "  <thead>\n",
       "    <tr style=\"text-align: right;\">\n",
       "      <th></th>\n",
       "      <th>symboling</th>\n",
       "      <th>fueltype</th>\n",
       "      <th>aspiration</th>\n",
       "      <th>doornumber</th>\n",
       "      <th>carbody</th>\n",
       "      <th>drivewheel</th>\n",
       "      <th>enginelocation</th>\n",
       "      <th>wheelbase</th>\n",
       "      <th>carlength</th>\n",
       "      <th>carwidth</th>\n",
       "      <th>carheight</th>\n",
       "      <th>curbweight</th>\n",
       "      <th>enginetype</th>\n",
       "      <th>cylindernumber</th>\n",
       "      <th>enginesize</th>\n",
       "      <th>fuelsystem</th>\n",
       "      <th>boreratio</th>\n",
       "      <th>stroke</th>\n",
       "      <th>compressionratio</th>\n",
       "      <th>horsepower</th>\n",
       "      <th>peakrpm</th>\n",
       "      <th>citympg</th>\n",
       "      <th>highwaympg</th>\n",
       "      <th>price</th>\n",
       "    </tr>\n",
       "  </thead>\n",
       "  <tbody>\n",
       "    <tr>\n",
       "      <th>0</th>\n",
       "      <td>0</td>\n",
       "      <td>gas</td>\n",
       "      <td>std</td>\n",
       "      <td>two</td>\n",
       "      <td>sedan</td>\n",
       "      <td>rwd</td>\n",
       "      <td>front</td>\n",
       "      <td>102.0</td>\n",
       "      <td>191.7</td>\n",
       "      <td>70.6</td>\n",
       "      <td>47.8</td>\n",
       "      <td>3950</td>\n",
       "      <td>ohcv</td>\n",
       "      <td>twelve</td>\n",
       "      <td>326</td>\n",
       "      <td>mpfi</td>\n",
       "      <td>3.54</td>\n",
       "      <td>2.76</td>\n",
       "      <td>11.5</td>\n",
       "      <td>262</td>\n",
       "      <td>5000</td>\n",
       "      <td>13</td>\n",
       "      <td>17</td>\n",
       "      <td>36000.0</td>\n",
       "    </tr>\n",
       "    <tr>\n",
       "      <th>1</th>\n",
       "      <td>0</td>\n",
       "      <td>gas</td>\n",
       "      <td>std</td>\n",
       "      <td>four</td>\n",
       "      <td>sedan</td>\n",
       "      <td>rwd</td>\n",
       "      <td>front</td>\n",
       "      <td>120.9</td>\n",
       "      <td>208.1</td>\n",
       "      <td>71.7</td>\n",
       "      <td>56.7</td>\n",
       "      <td>3900</td>\n",
       "      <td>ohcv</td>\n",
       "      <td>eight</td>\n",
       "      <td>308</td>\n",
       "      <td>mpfi</td>\n",
       "      <td>3.80</td>\n",
       "      <td>3.35</td>\n",
       "      <td>8.0</td>\n",
       "      <td>184</td>\n",
       "      <td>4500</td>\n",
       "      <td>14</td>\n",
       "      <td>16</td>\n",
       "      <td>40960.0</td>\n",
       "    </tr>\n",
       "    <tr>\n",
       "      <th>2</th>\n",
       "      <td>1</td>\n",
       "      <td>gas</td>\n",
       "      <td>std</td>\n",
       "      <td>two</td>\n",
       "      <td>hardtop</td>\n",
       "      <td>rwd</td>\n",
       "      <td>front</td>\n",
       "      <td>112.0</td>\n",
       "      <td>199.2</td>\n",
       "      <td>72.0</td>\n",
       "      <td>55.4</td>\n",
       "      <td>3715</td>\n",
       "      <td>ohcv</td>\n",
       "      <td>eight</td>\n",
       "      <td>304</td>\n",
       "      <td>mpfi</td>\n",
       "      <td>3.80</td>\n",
       "      <td>3.35</td>\n",
       "      <td>8.0</td>\n",
       "      <td>184</td>\n",
       "      <td>4500</td>\n",
       "      <td>14</td>\n",
       "      <td>16</td>\n",
       "      <td>45400.0</td>\n",
       "    </tr>\n",
       "    <tr>\n",
       "      <th>3</th>\n",
       "      <td>0</td>\n",
       "      <td>gas</td>\n",
       "      <td>std</td>\n",
       "      <td>four</td>\n",
       "      <td>sedan</td>\n",
       "      <td>rwd</td>\n",
       "      <td>front</td>\n",
       "      <td>113.0</td>\n",
       "      <td>199.6</td>\n",
       "      <td>69.6</td>\n",
       "      <td>52.8</td>\n",
       "      <td>4066</td>\n",
       "      <td>dohc</td>\n",
       "      <td>six</td>\n",
       "      <td>258</td>\n",
       "      <td>mpfi</td>\n",
       "      <td>3.63</td>\n",
       "      <td>4.17</td>\n",
       "      <td>8.1</td>\n",
       "      <td>176</td>\n",
       "      <td>4750</td>\n",
       "      <td>15</td>\n",
       "      <td>19</td>\n",
       "      <td>32250.0</td>\n",
       "    </tr>\n",
       "    <tr>\n",
       "      <th>4</th>\n",
       "      <td>0</td>\n",
       "      <td>gas</td>\n",
       "      <td>std</td>\n",
       "      <td>four</td>\n",
       "      <td>sedan</td>\n",
       "      <td>rwd</td>\n",
       "      <td>front</td>\n",
       "      <td>113.0</td>\n",
       "      <td>199.6</td>\n",
       "      <td>69.6</td>\n",
       "      <td>52.8</td>\n",
       "      <td>4066</td>\n",
       "      <td>dohc</td>\n",
       "      <td>six</td>\n",
       "      <td>258</td>\n",
       "      <td>mpfi</td>\n",
       "      <td>3.63</td>\n",
       "      <td>4.17</td>\n",
       "      <td>8.1</td>\n",
       "      <td>176</td>\n",
       "      <td>4750</td>\n",
       "      <td>15</td>\n",
       "      <td>19</td>\n",
       "      <td>35550.0</td>\n",
       "    </tr>\n",
       "  </tbody>\n",
       "</table>\n",
       "</div>"
      ],
      "text/plain": [
       "  symboling fueltype aspiration doornumber  carbody drivewheel enginelocation  \\\n",
       "0         0      gas        std        two    sedan        rwd          front   \n",
       "1         0      gas        std       four    sedan        rwd          front   \n",
       "2         1      gas        std        two  hardtop        rwd          front   \n",
       "3         0      gas        std       four    sedan        rwd          front   \n",
       "4         0      gas        std       four    sedan        rwd          front   \n",
       "\n",
       "   wheelbase  carlength  carwidth  carheight  curbweight enginetype  \\\n",
       "0      102.0      191.7      70.6       47.8        3950       ohcv   \n",
       "1      120.9      208.1      71.7       56.7        3900       ohcv   \n",
       "2      112.0      199.2      72.0       55.4        3715       ohcv   \n",
       "3      113.0      199.6      69.6       52.8        4066       dohc   \n",
       "4      113.0      199.6      69.6       52.8        4066       dohc   \n",
       "\n",
       "  cylindernumber  enginesize fuelsystem  boreratio  stroke  compressionratio  \\\n",
       "0         twelve         326       mpfi       3.54    2.76              11.5   \n",
       "1          eight         308       mpfi       3.80    3.35               8.0   \n",
       "2          eight         304       mpfi       3.80    3.35               8.0   \n",
       "3            six         258       mpfi       3.63    4.17               8.1   \n",
       "4            six         258       mpfi       3.63    4.17               8.1   \n",
       "\n",
       "   horsepower  peakrpm  citympg  highwaympg    price  \n",
       "0         262     5000       13          17  36000.0  \n",
       "1         184     4500       14          16  40960.0  \n",
       "2         184     4500       14          16  45400.0  \n",
       "3         176     4750       15          19  32250.0  \n",
       "4         176     4750       15          19  35550.0  "
      ]
     },
     "metadata": {},
     "output_type": "display_data"
    }
   ],
   "source": [
    "#Display head and data shape\n",
    "print('Data shape:', processed_data.shape)\n",
    "display(processed_data.head())"
   ]
  },
  {
   "cell_type": "markdown",
   "metadata": {},
   "source": [
    "**Check Info**"
   ]
  },
  {
   "cell_type": "code",
   "execution_count": 5,
   "metadata": {},
   "outputs": [
    {
     "name": "stdout",
     "output_type": "stream",
     "text": [
      "<class 'pandas.core.frame.DataFrame'>\n",
      "Int64Index: 205 entries, 0 to 204\n",
      "Data columns (total 24 columns):\n",
      " #   Column            Non-Null Count  Dtype   \n",
      "---  ------            --------------  -----   \n",
      " 0   symboling         205 non-null    category\n",
      " 1   fueltype          205 non-null    object  \n",
      " 2   aspiration        205 non-null    object  \n",
      " 3   doornumber        205 non-null    object  \n",
      " 4   carbody           205 non-null    object  \n",
      " 5   drivewheel        205 non-null    object  \n",
      " 6   enginelocation    205 non-null    object  \n",
      " 7   wheelbase         205 non-null    float64 \n",
      " 8   carlength         205 non-null    float64 \n",
      " 9   carwidth          205 non-null    float64 \n",
      " 10  carheight         205 non-null    float64 \n",
      " 11  curbweight        205 non-null    int64   \n",
      " 12  enginetype        205 non-null    object  \n",
      " 13  cylindernumber    205 non-null    object  \n",
      " 14  enginesize        205 non-null    int64   \n",
      " 15  fuelsystem        205 non-null    object  \n",
      " 16  boreratio         205 non-null    float64 \n",
      " 17  stroke            205 non-null    float64 \n",
      " 18  compressionratio  205 non-null    float64 \n",
      " 19  horsepower        205 non-null    int64   \n",
      " 20  peakrpm           205 non-null    int64   \n",
      " 21  citympg           205 non-null    int64   \n",
      " 22  highwaympg        205 non-null    int64   \n",
      " 23  price             205 non-null    float64 \n",
      "dtypes: category(1), float64(8), int64(6), object(9)\n",
      "memory usage: 38.8+ KB\n"
     ]
    }
   ],
   "source": [
    "processed_data.info()"
   ]
  },
  {
   "cell_type": "markdown",
   "metadata": {},
   "source": [
    "# Supervised Learning\n",
    "## Base Model"
   ]
  },
  {
   "cell_type": "markdown",
   "metadata": {},
   "source": [
    "**Import libraries**"
   ]
  },
  {
   "cell_type": "code",
   "execution_count": 6,
   "metadata": {},
   "outputs": [],
   "source": [
    "#Import sklearn libaries\n",
    "from sklearn.linear_model import LinearRegression\n",
    "from sklearn.pipeline import Pipeline\n",
    "from sklearn.compose import ColumnTransformer\n",
    "from sklearn.preprocessing import StandardScaler, OneHotEncoder\n",
    "from sklearn.model_selection import cross_val_predict\n",
    "\n",
    "#Import py files\n",
    "from src.Models.machine_learning import regression_metrics"
   ]
  },
  {
   "cell_type": "markdown",
   "metadata": {},
   "source": [
    "**Prepare data**"
   ]
  },
  {
   "cell_type": "code",
   "execution_count": 7,
   "metadata": {},
   "outputs": [
    {
     "name": "stdout",
     "output_type": "stream",
     "text": [
      "Training data shape:(205, 23)\n",
      "Test data shape:(205,)\n"
     ]
    }
   ],
   "source": [
    "#Split data into X, y\n",
    "X= processed_data.drop('price', axis = 1)\n",
    "y= processed_data['price']\n",
    "\n",
    "#Check shapes\n",
    "print(\"Training data shape:%s\\nTest data shape:%s\" %(X.shape,y.shape))"
   ]
  },
  {
   "cell_type": "code",
   "execution_count": 8,
   "metadata": {},
   "outputs": [],
   "source": [
    "#Subset numeric and categorical features\n",
    "num_features= list(X.select_dtypes(include= ['float64', 'int64']).columns)\n",
    "cat_features= list(X.select_dtypes(exclude= ['float64', 'int64']).columns)"
   ]
  },
  {
   "cell_type": "markdown",
   "metadata": {},
   "source": [
    "**Build Pipeline**"
   ]
  },
  {
   "cell_type": "code",
   "execution_count": 9,
   "metadata": {},
   "outputs": [],
   "source": [
    "#Create transformers\n",
    "num_transformer= Pipeline(steps= [('scaler', StandardScaler())])\n",
    "cat_transformer= Pipeline(steps= [('encoder', OneHotEncoder(handle_unknown='ignore'))])\n",
    "\n",
    "#Init preprocessor with transformers\n",
    "preprocessor= ColumnTransformer(transformers=[('numerics', num_transformer, num_features),\n",
    "                                              ('categoricals', cat_transformer, cat_features)])\n",
    "\n",
    "#Append preprocessor to pipeline\n",
    "pipe= Pipeline(steps= [('preprocessor', preprocessor),\n",
    "                                 ('regressor', LinearRegression(n_jobs=-1))\n",
    "                                ])"
   ]
  },
  {
   "cell_type": "markdown",
   "metadata": {},
   "source": [
    "**Test Base Model**"
   ]
  },
  {
   "cell_type": "code",
   "execution_count": 10,
   "metadata": {},
   "outputs": [],
   "source": [
    "#Import scoring module\n",
    "from src.Models.machine_learning import regression_metrics\n",
    "\n",
    "#Run base_regressor and get predictions\n",
    "BaseRegressorPredictions= cross_val_predict(estimator= pipe, X= X, y= y, \n",
    "                                            cv=5, n_jobs= -1)"
   ]
  },
  {
   "cell_type": "code",
   "execution_count": 11,
   "metadata": {},
   "outputs": [
    {
     "data": {
      "text/html": [
       "<div>\n",
       "<style scoped>\n",
       "    .dataframe tbody tr th:only-of-type {\n",
       "        vertical-align: middle;\n",
       "    }\n",
       "\n",
       "    .dataframe tbody tr th {\n",
       "        vertical-align: top;\n",
       "    }\n",
       "\n",
       "    .dataframe thead th {\n",
       "        text-align: right;\n",
       "    }\n",
       "</style>\n",
       "<table border=\"1\" class=\"dataframe\">\n",
       "  <thead>\n",
       "    <tr style=\"text-align: right;\">\n",
       "      <th></th>\n",
       "      <th>Predictions</th>\n",
       "      <th>Actual</th>\n",
       "      <th>Residuals</th>\n",
       "    </tr>\n",
       "  </thead>\n",
       "  <tbody>\n",
       "    <tr>\n",
       "      <th>0</th>\n",
       "      <td>27440.236942</td>\n",
       "      <td>36000.0</td>\n",
       "      <td>8559.763058</td>\n",
       "    </tr>\n",
       "    <tr>\n",
       "      <th>1</th>\n",
       "      <td>26835.928625</td>\n",
       "      <td>40960.0</td>\n",
       "      <td>14124.071375</td>\n",
       "    </tr>\n",
       "    <tr>\n",
       "      <th>2</th>\n",
       "      <td>22162.057503</td>\n",
       "      <td>45400.0</td>\n",
       "      <td>23237.942497</td>\n",
       "    </tr>\n",
       "    <tr>\n",
       "      <th>3</th>\n",
       "      <td>25982.603765</td>\n",
       "      <td>32250.0</td>\n",
       "      <td>6267.396235</td>\n",
       "    </tr>\n",
       "    <tr>\n",
       "      <th>4</th>\n",
       "      <td>25982.603765</td>\n",
       "      <td>35550.0</td>\n",
       "      <td>9567.396235</td>\n",
       "    </tr>\n",
       "  </tbody>\n",
       "</table>\n",
       "</div>"
      ],
      "text/plain": [
       "    Predictions   Actual     Residuals\n",
       "0  27440.236942  36000.0   8559.763058\n",
       "1  26835.928625  40960.0  14124.071375\n",
       "2  22162.057503  45400.0  23237.942497\n",
       "3  25982.603765  32250.0   6267.396235\n",
       "4  25982.603765  35550.0   9567.396235"
      ]
     },
     "metadata": {},
     "output_type": "display_data"
    }
   ],
   "source": [
    "#Create dictionary containing BaseRegressorPredictions and y\n",
    "BaseRegressorDict= {'Predictions': BaseRegressorPredictions,\n",
    "                   'Actual': list(y)}\n",
    "\n",
    "#Convert dictionary into dataframe \n",
    "BaseRegressorResids= pd.DataFrame(data=BaseRegressorDict, columns= ['Predictions', 'Actual'])\n",
    "\n",
    "#Read in lambda variable from boxcox transformation done in preprocessing file\n",
    "lmbda= yaml_data.base.xglobal.lmbda\n",
    "\n",
    "#Create dataframe BaseRegressorResids to store actual and predictions. Inverse boxcox. Calculate residuals\n",
    "BaseRegressorResids= pd.DataFrame(data=BaseRegressorDict, columns= ['Predictions', 'Actual'])\n",
    "\n",
    "# from scipy.special import inv_boxcox\n",
    "# BaseRegressorResids = BaseRegressorResids.apply(lambda x: inv_boxcox(x, lmbda))\n",
    "BaseRegressorResids['Residuals']= BaseRegressorResids['Actual']- BaseRegressorResids['Predictions']\n",
    "\n",
    "#Check\n",
    "display(BaseRegressorResids.head())"
   ]
  },
  {
   "cell_type": "markdown",
   "metadata": {},
   "source": [
    "**Evaluate Base Model Performance and Errors**"
   ]
  },
  {
   "cell_type": "code",
   "execution_count": 12,
   "metadata": {},
   "outputs": [
    {
     "data": {
      "text/plain": [
       "{'MAE': 3339.1044381020274,\n",
       " 'MAPE': 25.01248093600153,\n",
       " 'MSE': 24809327.79125473,\n",
       " 'RMSE': 4980.8962839287,\n",
       " 'R2': 0.6093661233003144}"
      ]
     },
     "metadata": {},
     "output_type": "display_data"
    },
    {
     "data": {
      "image/png": "[encoded data removed]",
      "text/plain": [
       "<Figure size 1080x576 with 2 Axes>"
      ]
     },
     "metadata": {},
     "output_type": "display_data"
    }
   ],
   "source": [
    "#Import visualization module\n",
    "from src.Visualization.visualize import EDA_Viz\n",
    "\n",
    "#Display model performance\n",
    "BaseModelStats= regression_metrics(BaseRegressorResids.Predictions.values, BaseRegressorResids.Actual.values)\n",
    "display(BaseModelStats)\n",
    "\n",
    "\n",
    "#Init EDA_Viz object\n",
    "BRResidsViz= EDA_Viz(BaseRegressorResids)\n",
    "\n",
    "#Create figure\n",
    "f, ax= plt.subplots(1,2, figsize= (15,8))\n",
    "\n",
    "#Add residual plots to fig\n",
    "BRResidsViz.histogram(feature= 'Residuals', ax= ax[0])\n",
    "BRResidsViz.qqplot('Residuals', ax= ax[1]);"
   ]
  },
  {
   "cell_type": "markdown",
   "metadata": {},
   "source": [
    "## Model 2.0 - Apply L2 Regularization "
   ]
  },
  {
   "cell_type": "markdown",
   "metadata": {},
   "source": [
    "**Update pipeline and add L2 regressor**"
   ]
  },
  {
   "cell_type": "code",
   "execution_count": 13,
   "metadata": {},
   "outputs": [
    {
     "data": {
      "text/plain": [
       "Pipeline(steps=[('preprocessor',\n",
       "                 ColumnTransformer(transformers=[('numerics',\n",
       "                                                  Pipeline(steps=[('scaler',\n",
       "                                                                   StandardScaler())]),\n",
       "                                                  ['wheelbase', 'carlength',\n",
       "                                                   'carwidth', 'carheight',\n",
       "                                                   'curbweight', 'enginesize',\n",
       "                                                   'boreratio', 'stroke',\n",
       "                                                   'compressionratio',\n",
       "                                                   'horsepower', 'peakrpm',\n",
       "                                                   'citympg', 'highwaympg']),\n",
       "                                                 ('categoricals',\n",
       "                                                  Pipeline(steps=[('encoder',\n",
       "                                                                   OneHotEncoder(handle_unknown='ignore'))]),\n",
       "                                                  ['symboling', 'fueltype',\n",
       "                                                   'aspiration', 'doornumber',\n",
       "                                                   'carbody', 'drivewheel',\n",
       "                                                   'enginelocation',\n",
       "                                                   'enginetype',\n",
       "                                                   'cylindernumber',\n",
       "                                                   'fuelsystem'])])),\n",
       "                ['regressor', Ridge(random_state=24)]])"
      ]
     },
     "metadata": {},
     "output_type": "display_data"
    }
   ],
   "source": [
    "#Import l2\n",
    "from sklearn.linear_model import Ridge\n",
    "\n",
    "#Update pipeline\n",
    "pipe.steps.pop(1)\n",
    "\n",
    "#Add ridge regression to pipe\n",
    "pipe.steps.append(['regressor', Ridge(alpha=1.0, random_state= 24)])\n",
    "\n",
    "#Check\n",
    "display(pipe)"
   ]
  },
  {
   "cell_type": "code",
   "execution_count": 14,
   "metadata": {},
   "outputs": [],
   "source": [
    "#Fit updated pipe to data\n",
    "Model2Predictions= cross_val_predict(estimator= pipe, X= X, y= y, \n",
    "                                            cv=5, n_jobs= -1)"
   ]
  },
  {
   "cell_type": "markdown",
   "metadata": {},
   "source": [
    "**Evaluate Model 2.0 Performance**"
   ]
  },
  {
   "cell_type": "code",
   "execution_count": 15,
   "metadata": {},
   "outputs": [
    {
     "data": {
      "text/html": [
       "<div>\n",
       "<style scoped>\n",
       "    .dataframe tbody tr th:only-of-type {\n",
       "        vertical-align: middle;\n",
       "    }\n",
       "\n",
       "    .dataframe tbody tr th {\n",
       "        vertical-align: top;\n",
       "    }\n",
       "\n",
       "    .dataframe thead th {\n",
       "        text-align: right;\n",
       "    }\n",
       "</style>\n",
       "<table border=\"1\" class=\"dataframe\">\n",
       "  <thead>\n",
       "    <tr style=\"text-align: right;\">\n",
       "      <th></th>\n",
       "      <th>Predictions</th>\n",
       "      <th>Actual</th>\n",
       "      <th>Residuals</th>\n",
       "    </tr>\n",
       "  </thead>\n",
       "  <tbody>\n",
       "    <tr>\n",
       "      <th>0</th>\n",
       "      <td>29073.335230</td>\n",
       "      <td>36000.0</td>\n",
       "      <td>6926.664770</td>\n",
       "    </tr>\n",
       "    <tr>\n",
       "      <th>1</th>\n",
       "      <td>26677.999324</td>\n",
       "      <td>40960.0</td>\n",
       "      <td>14282.000676</td>\n",
       "    </tr>\n",
       "    <tr>\n",
       "      <th>2</th>\n",
       "      <td>22992.922685</td>\n",
       "      <td>45400.0</td>\n",
       "      <td>22407.077315</td>\n",
       "    </tr>\n",
       "    <tr>\n",
       "      <th>3</th>\n",
       "      <td>24823.134696</td>\n",
       "      <td>32250.0</td>\n",
       "      <td>7426.865304</td>\n",
       "    </tr>\n",
       "    <tr>\n",
       "      <th>4</th>\n",
       "      <td>24823.134696</td>\n",
       "      <td>35550.0</td>\n",
       "      <td>10726.865304</td>\n",
       "    </tr>\n",
       "  </tbody>\n",
       "</table>\n",
       "</div>"
      ],
      "text/plain": [
       "    Predictions   Actual     Residuals\n",
       "0  29073.335230  36000.0   6926.664770\n",
       "1  26677.999324  40960.0  14282.000676\n",
       "2  22992.922685  45400.0  22407.077315\n",
       "3  24823.134696  32250.0   7426.865304\n",
       "4  24823.134696  35550.0  10726.865304"
      ]
     },
     "metadata": {},
     "output_type": "display_data"
    }
   ],
   "source": [
    "#Create dictionary containing BaseRegressorPredictions and y\n",
    "Model2Dict= {'Predictions': Model2Predictions,\n",
    "                   'Actual': list(y)}\n",
    "\n",
    "#Convert dictionary into dataframe \n",
    "Model2Resids= pd.DataFrame(data=Model2Dict, columns= ['Predictions', 'Actual'])\n",
    "\n",
    "#Invert boxcox transformation\n",
    "Model2Resids['Residuals']= Model2Resids['Actual']- Model2Resids['Predictions']\n",
    "\n",
    "#Check\n",
    "display(Model2Resids.head())"
   ]
  },
  {
   "cell_type": "code",
   "execution_count": 16,
   "metadata": {},
   "outputs": [
    {
     "data": {
      "text/plain": [
       "{'MAE': 3028.7398024098566,\n",
       " 'MAPE': 22.535702307971654,\n",
       " 'MSE': 21041322.567947943,\n",
       " 'RMSE': 4587.08214096368,\n",
       " 'R2': 0.6686950378194672}"
      ]
     },
     "metadata": {},
     "output_type": "display_data"
    },
    {
     "data": {
      "image/png": "[encoded data removed]",
      "text/plain": [
       "<Figure size 1080x576 with 2 Axes>"
      ]
     },
     "metadata": {},
     "output_type": "display_data"
    }
   ],
   "source": [
    "#Score model2.0\n",
    "Model2Metrics= regression_metrics(Model2Resids.Predictions.values, Model2Resids.Actual.values)\n",
    "display(Model2Metrics)\n",
    "\n",
    "#Init EDA_Viz object\n",
    "Model2ResidsViz= EDA_Viz(Model2Resids)\n",
    "\n",
    "#Create figure\n",
    "f, ax= plt.subplots(1,2, figsize= (15,8))\n",
    "\n",
    "#Add residual plots to fig\n",
    "Model2ResidsViz.histogram(feature= 'Residuals', ax= ax[0])\n",
    "Model2ResidsViz.qqplot('Residuals', ax= ax[1]);"
   ]
  },
  {
   "cell_type": "markdown",
   "metadata": {},
   "source": [
    "## Model 3.0 Apply Recursive Feature Elimination"
   ]
  },
  {
   "cell_type": "code",
   "execution_count": 17,
   "metadata": {},
   "outputs": [],
   "source": [
    "#Import RFE\n",
    "from sklearn.feature_selection import RFE\n",
    "\n",
    "#Delete last step of pipeline\n",
    "pipe.steps.pop(1)\n",
    "\n",
    "#Update pipe with RFE\n",
    "est= Ridge(alpha=1.0, random_state= 24)\n",
    "pipe.steps.append( ['selector', RFE(est, n_features_to_select=5)])"
   ]
  },
  {
   "cell_type": "code",
   "execution_count": 18,
   "metadata": {},
   "outputs": [
    {
     "data": {
      "text/html": [
       "<div>\n",
       "<style scoped>\n",
       "    .dataframe tbody tr th:only-of-type {\n",
       "        vertical-align: middle;\n",
       "    }\n",
       "\n",
       "    .dataframe tbody tr th {\n",
       "        vertical-align: top;\n",
       "    }\n",
       "\n",
       "    .dataframe thead th {\n",
       "        text-align: right;\n",
       "    }\n",
       "</style>\n",
       "<table border=\"1\" class=\"dataframe\">\n",
       "  <thead>\n",
       "    <tr style=\"text-align: right;\">\n",
       "      <th></th>\n",
       "      <th>Predictions</th>\n",
       "      <th>Actual</th>\n",
       "      <th>Residuals</th>\n",
       "    </tr>\n",
       "  </thead>\n",
       "  <tbody>\n",
       "    <tr>\n",
       "      <th>0</th>\n",
       "      <td>26835.603085</td>\n",
       "      <td>36000.0</td>\n",
       "      <td>9164.396915</td>\n",
       "    </tr>\n",
       "    <tr>\n",
       "      <th>1</th>\n",
       "      <td>26399.648621</td>\n",
       "      <td>40960.0</td>\n",
       "      <td>14560.351379</td>\n",
       "    </tr>\n",
       "    <tr>\n",
       "      <th>2</th>\n",
       "      <td>24786.617103</td>\n",
       "      <td>45400.0</td>\n",
       "      <td>20613.382897</td>\n",
       "    </tr>\n",
       "    <tr>\n",
       "      <th>3</th>\n",
       "      <td>27847.017442</td>\n",
       "      <td>32250.0</td>\n",
       "      <td>4402.982558</td>\n",
       "    </tr>\n",
       "    <tr>\n",
       "      <th>4</th>\n",
       "      <td>27847.017442</td>\n",
       "      <td>35550.0</td>\n",
       "      <td>7702.982558</td>\n",
       "    </tr>\n",
       "    <tr>\n",
       "      <th>...</th>\n",
       "      <td>...</td>\n",
       "      <td>...</td>\n",
       "      <td>...</td>\n",
       "    </tr>\n",
       "    <tr>\n",
       "      <th>200</th>\n",
       "      <td>5282.871207</td>\n",
       "      <td>5399.0</td>\n",
       "      <td>116.128793</td>\n",
       "    </tr>\n",
       "    <tr>\n",
       "      <th>201</th>\n",
       "      <td>8149.066510</td>\n",
       "      <td>10945.0</td>\n",
       "      <td>2795.933490</td>\n",
       "    </tr>\n",
       "    <tr>\n",
       "      <th>202</th>\n",
       "      <td>8149.066510</td>\n",
       "      <td>11845.0</td>\n",
       "      <td>3695.933490</td>\n",
       "    </tr>\n",
       "    <tr>\n",
       "      <th>203</th>\n",
       "      <td>8149.066510</td>\n",
       "      <td>13645.0</td>\n",
       "      <td>5495.933490</td>\n",
       "    </tr>\n",
       "    <tr>\n",
       "      <th>204</th>\n",
       "      <td>6803.685249</td>\n",
       "      <td>5151.0</td>\n",
       "      <td>-1652.685249</td>\n",
       "    </tr>\n",
       "  </tbody>\n",
       "</table>\n",
       "<p>205 rows × 3 columns</p>\n",
       "</div>"
      ],
      "text/plain": [
       "      Predictions   Actual     Residuals\n",
       "0    26835.603085  36000.0   9164.396915\n",
       "1    26399.648621  40960.0  14560.351379\n",
       "2    24786.617103  45400.0  20613.382897\n",
       "3    27847.017442  32250.0   4402.982558\n",
       "4    27847.017442  35550.0   7702.982558\n",
       "..            ...      ...           ...\n",
       "200   5282.871207   5399.0    116.128793\n",
       "201   8149.066510  10945.0   2795.933490\n",
       "202   8149.066510  11845.0   3695.933490\n",
       "203   8149.066510  13645.0   5495.933490\n",
       "204   6803.685249   5151.0  -1652.685249\n",
       "\n",
       "[205 rows x 3 columns]"
      ]
     },
     "execution_count": 18,
     "metadata": {},
     "output_type": "execute_result"
    }
   ],
   "source": [
    "#Get predictions and store as Model3Predictions\n",
    "Model3Predictions= cross_val_predict(pipe, X= X, y= y, cv=5, n_jobs= -1)\n",
    "\n",
    "#Create dictionary of predictions and actual values\n",
    "Model3Dict= {'Predictions': Model3Predictions,\n",
    "            'Actual': list(y)}\n",
    "\n",
    "#Create a dataframe to store predictions and actual values\n",
    "Model3Resids= pd.DataFrame(data= Model3Dict, columns=['Predictions', 'Actual'])\n",
    "\n",
    "#Calculate Rediduals\n",
    "Model3Resids['Residuals']= Model3Resids['Actual']- Model3Resids['Predictions']\n",
    "\n",
    "#Check\n",
    "Model3Resids"
   ]
  },
  {
   "cell_type": "markdown",
   "metadata": {},
   "source": [
    "**Evaluate Pipeline**"
   ]
  },
  {
   "cell_type": "code",
   "execution_count": 19,
   "metadata": {},
   "outputs": [
    {
     "data": {
      "text/plain": [
       "{'MAE': 3028.7398024098566,\n",
       " 'MAPE': 22.535702307971654,\n",
       " 'MSE': 21041322.567947943,\n",
       " 'RMSE': 4587.08214096368,\n",
       " 'R2': 0.6686950378194672}"
      ]
     },
     "metadata": {},
     "output_type": "display_data"
    },
    {
     "data": {
      "image/png": "[encoded data removed]",
      "text/plain": [
       "<Figure size 1080x576 with 2 Axes>"
      ]
     },
     "metadata": {},
     "output_type": "display_data"
    }
   ],
   "source": [
    "#Get and display metrics\n",
    "Model3Metrics= regression_metrics(Model3Resids.Predictions.values, Model3Resids.Actual.values)\n",
    "display(Model2Metrics)\n",
    "\n",
    "#Init EDA_Viz object\n",
    "Model3ResidsViz= EDA_Viz(Model3Resids)\n",
    "\n",
    "#Create figure\n",
    "f, ax= plt.subplots(1,2, figsize= (15,8))\n",
    "\n",
    "#Add residual plots to fig\n",
    "Model3ResidsViz.histogram(feature= 'Residuals', ax= ax[0])\n",
    "Model3ResidsViz.qqplot('Residuals', ax= ax[1]);"
   ]
  },
  {
   "cell_type": "code",
   "execution_count": null,
   "metadata": {},
   "outputs": [],
   "source": []
  }
 ],
 "metadata": {
  "kernelspec": {
   "display_name": "data_overview",
   "language": "python",
   "name": "data_overview"
  },
  "language_info": {
   "codemirror_mode": {
    "name": "ipython",
    "version": 3
   },
   "file_extension": ".py",
   "mimetype": "text/x-python",
   "name": "python",
   "nbconvert_exporter": "python",
   "pygments_lexer": "ipython3",
   "version": "3.7.4"
  }
 },
 "nbformat": 4,
 "nbformat_minor": 4
}
